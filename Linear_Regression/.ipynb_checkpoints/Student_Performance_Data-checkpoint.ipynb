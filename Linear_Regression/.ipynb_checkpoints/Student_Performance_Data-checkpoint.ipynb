{
 "cells": [
  {
   "cell_type": "code",
   "execution_count": 2,
   "id": "ffb6ae85",
   "metadata": {},
   "outputs": [],
   "source": [
    "# Import required libraries\n",
    "\n",
    "import pandas as pd\n",
    "import numpy as np\n",
    "import sklearn\n",
    "from sklearn import linear_model\n",
    "from sklearn.utils import shuffle\n",
    "import matplotlib.pyplot as plt # we need this to plot results and thereby compare models\n",
    "from matplotlib import style"
   ]
  },
  {
   "cell_type": "code",
   "execution_count": 3,
   "id": "0136f2cd",
   "metadata": {},
   "outputs": [],
   "source": [
    "# Read the student performance data\n",
    "\n",
    "data = pd.read_csv(\"student-mat.csv\", sep=\";\") # note that the data is separated by semicolons"
   ]
  },
  {
   "cell_type": "code",
   "execution_count": 4,
   "id": "1b0d3321",
   "metadata": {},
   "outputs": [
    {
     "name": "stdout",
     "output_type": "stream",
     "text": [
      "  school sex  age address famsize Pstatus  Medu  Fedu     Mjob      Fjob  ...  \\\n",
      "0     GP   F   18       U     GT3       A     4     4  at_home   teacher  ...   \n",
      "1     GP   F   17       U     GT3       T     1     1  at_home     other  ...   \n",
      "2     GP   F   15       U     LE3       T     1     1  at_home     other  ...   \n",
      "3     GP   F   15       U     GT3       T     4     2   health  services  ...   \n",
      "4     GP   F   16       U     GT3       T     3     3    other     other  ...   \n",
      "\n",
      "  famrel freetime  goout  Dalc  Walc health absences  G1  G2  G3  \n",
      "0      4        3      4     1     1      3        6   5   6   6  \n",
      "1      5        3      3     1     1      3        4   5   5   6  \n",
      "2      4        3      2     2     3      3       10   7   8  10  \n",
      "3      3        2      2     1     1      5        2  15  14  15  \n",
      "4      4        3      2     1     2      5        4   6  10  10  \n",
      "\n",
      "[5 rows x 33 columns]\n"
     ]
    }
   ],
   "source": [
    "# Print the entries for the first 5 students\n",
    "\n",
    "print(data.head())"
   ]
  },
  {
   "cell_type": "markdown",
   "id": "95708877",
   "metadata": {},
   "source": [
    "### It is informative to plot the data to see which features are the best to use, i.e., to make out any correlations between a given feature's value and the final grade of the student"
   ]
  },
  {
   "cell_type": "code",
   "execution_count": 5,
   "id": "825b488e",
   "metadata": {},
   "outputs": [
    {
     "data": {
      "image/png": "[encoded data removed]",
      "text/plain": [
       "<Figure size 432x288 with 1 Axes>"
      ]
     },
     "metadata": {
      "needs_background": "light"
     },
     "output_type": "display_data"
    }
   ],
   "source": [
    "# Plot a scatter plot for the chosen feature\n",
    "plot = \"romantic\" # Change this to the feature of choice\n",
    "plt.scatter(data[plot], data[\"G3\"]) \n",
    "plt.xlabel(plot)\n",
    "plt.ylabel(\"Final Grade\")\n",
    "plt.show()"
   ]
  },
  {
   "cell_type": "markdown",
   "id": "7a7a1d0c",
   "metadata": {},
   "source": [
    "The data contains 33 different features for each entry and most of them are likely not beneficial to the task of predicting student grades. Hence, we trim the data to only include relevant features:\n",
    " - studytime: weekly study time (numeric: 1 - <2 hours, 2 - 2 to 5 hours, 3 - 5 to 10 hours, or 4 - >10 hours)\n",
    " - failures: number of past class failures (numeric: n if 1<=n<3, else 4)\n",
    " - paid: extra paid classes within the course subject (Math in this case) (binary: yes or no)\n",
    " -  absences: number of school absences (numeric: from 0 to 93)\n",
    " - G1: first period grade (numeric: from 0 to 20) \n",
    " - G2: second period grade (numeric: from 0 to 20) \n",
    " - G3: final grade (numeric: from 0 to 20, output target)\n",
    " - Dalc: Daily alcohol consumption (numeric: from 1 - very low to 5 - very high)\n",
    " - romantic: with a romantic relationship (binary: yes or no) "
   ]
  },
  {
   "cell_type": "code",
   "execution_count": 6,
   "id": "2da1163a",
   "metadata": {},
   "outputs": [
    {
     "data": {
      "text/html": [
       "<div>\n",
       "<style scoped>\n",
       "    .dataframe tbody tr th:only-of-type {\n",
       "        vertical-align: middle;\n",
       "    }\n",
       "\n",
       "    .dataframe tbody tr th {\n",
       "        vertical-align: top;\n",
       "    }\n",
       "\n",
       "    .dataframe thead th {\n",
       "        text-align: right;\n",
       "    }\n",
       "</style>\n",
       "<table border=\"1\" class=\"dataframe\">\n",
       "  <thead>\n",
       "    <tr style=\"text-align: right;\">\n",
       "      <th></th>\n",
       "      <th>G1</th>\n",
       "      <th>G2</th>\n",
       "      <th>G3</th>\n",
       "      <th>studytime</th>\n",
       "      <th>failures</th>\n",
       "      <th>paid</th>\n",
       "      <th>romantic</th>\n",
       "    </tr>\n",
       "  </thead>\n",
       "  <tbody>\n",
       "    <tr>\n",
       "      <th>0</th>\n",
       "      <td>5</td>\n",
       "      <td>6</td>\n",
       "      <td>6</td>\n",
       "      <td>2</td>\n",
       "      <td>0</td>\n",
       "      <td>no</td>\n",
       "      <td>no</td>\n",
       "    </tr>\n",
       "    <tr>\n",
       "      <th>1</th>\n",
       "      <td>5</td>\n",
       "      <td>5</td>\n",
       "      <td>6</td>\n",
       "      <td>2</td>\n",
       "      <td>0</td>\n",
       "      <td>no</td>\n",
       "      <td>no</td>\n",
       "    </tr>\n",
       "    <tr>\n",
       "      <th>2</th>\n",
       "      <td>7</td>\n",
       "      <td>8</td>\n",
       "      <td>10</td>\n",
       "      <td>2</td>\n",
       "      <td>3</td>\n",
       "      <td>yes</td>\n",
       "      <td>no</td>\n",
       "    </tr>\n",
       "    <tr>\n",
       "      <th>3</th>\n",
       "      <td>15</td>\n",
       "      <td>14</td>\n",
       "      <td>15</td>\n",
       "      <td>3</td>\n",
       "      <td>0</td>\n",
       "      <td>yes</td>\n",
       "      <td>yes</td>\n",
       "    </tr>\n",
       "    <tr>\n",
       "      <th>4</th>\n",
       "      <td>6</td>\n",
       "      <td>10</td>\n",
       "      <td>10</td>\n",
       "      <td>2</td>\n",
       "      <td>0</td>\n",
       "      <td>yes</td>\n",
       "      <td>no</td>\n",
       "    </tr>\n",
       "  </tbody>\n",
       "</table>\n",
       "</div>"
      ],
      "text/plain": [
       "   G1  G2  G3  studytime  failures paid romantic\n",
       "0   5   6   6          2         0   no       no\n",
       "1   5   5   6          2         0   no       no\n",
       "2   7   8  10          2         3  yes       no\n",
       "3  15  14  15          3         0  yes      yes\n",
       "4   6  10  10          2         0  yes       no"
      ]
     },
     "execution_count": 6,
     "metadata": {},
     "output_type": "execute_result"
    }
   ],
   "source": [
    "# Trim our dataset so it only contains the features above\n",
    "chosen_features = [\"G1\", \"G2\", \"G3\", \"studytime\", \"failures\", \"paid\", \"romantic\"]\n",
    "num_features = len(chosen_features) - 1\n",
    "data = data[chosen_features]\n",
    "data.head()"
   ]
  },
  {
   "cell_type": "code",
   "execution_count": 7,
   "id": "e9dcb31b",
   "metadata": {},
   "outputs": [
    {
     "data": {
      "text/html": [
       "<div>\n",
       "<style scoped>\n",
       "    .dataframe tbody tr th:only-of-type {\n",
       "        vertical-align: middle;\n",
       "    }\n",
       "\n",
       "    .dataframe tbody tr th {\n",
       "        vertical-align: top;\n",
       "    }\n",
       "\n",
       "    .dataframe thead th {\n",
       "        text-align: right;\n",
       "    }\n",
       "</style>\n",
       "<table border=\"1\" class=\"dataframe\">\n",
       "  <thead>\n",
       "    <tr style=\"text-align: right;\">\n",
       "      <th></th>\n",
       "      <th>G1</th>\n",
       "      <th>G2</th>\n",
       "      <th>G3</th>\n",
       "      <th>studytime</th>\n",
       "      <th>failures</th>\n",
       "      <th>paid</th>\n",
       "      <th>romantic</th>\n",
       "    </tr>\n",
       "  </thead>\n",
       "  <tbody>\n",
       "    <tr>\n",
       "      <th>0</th>\n",
       "      <td>5</td>\n",
       "      <td>6</td>\n",
       "      <td>6</td>\n",
       "      <td>2</td>\n",
       "      <td>0</td>\n",
       "      <td>0</td>\n",
       "      <td>0</td>\n",
       "    </tr>\n",
       "    <tr>\n",
       "      <th>1</th>\n",
       "      <td>5</td>\n",
       "      <td>5</td>\n",
       "      <td>6</td>\n",
       "      <td>2</td>\n",
       "      <td>0</td>\n",
       "      <td>0</td>\n",
       "      <td>0</td>\n",
       "    </tr>\n",
       "    <tr>\n",
       "      <th>2</th>\n",
       "      <td>7</td>\n",
       "      <td>8</td>\n",
       "      <td>10</td>\n",
       "      <td>2</td>\n",
       "      <td>3</td>\n",
       "      <td>1</td>\n",
       "      <td>0</td>\n",
       "    </tr>\n",
       "    <tr>\n",
       "      <th>3</th>\n",
       "      <td>15</td>\n",
       "      <td>14</td>\n",
       "      <td>15</td>\n",
       "      <td>3</td>\n",
       "      <td>0</td>\n",
       "      <td>1</td>\n",
       "      <td>1</td>\n",
       "    </tr>\n",
       "    <tr>\n",
       "      <th>4</th>\n",
       "      <td>6</td>\n",
       "      <td>10</td>\n",
       "      <td>10</td>\n",
       "      <td>2</td>\n",
       "      <td>0</td>\n",
       "      <td>1</td>\n",
       "      <td>0</td>\n",
       "    </tr>\n",
       "  </tbody>\n",
       "</table>\n",
       "</div>"
      ],
      "text/plain": [
       "   G1  G2  G3  studytime  failures  paid  romantic\n",
       "0   5   6   6          2         0     0         0\n",
       "1   5   5   6          2         0     0         0\n",
       "2   7   8  10          2         3     1         0\n",
       "3  15  14  15          3         0     1         1\n",
       "4   6  10  10          2         0     1         0"
      ]
     },
     "execution_count": 7,
     "metadata": {},
     "output_type": "execute_result"
    }
   ],
   "source": [
    "# Note that the entries in some columns are either no or yes. The used linear model requires\n",
    "# features to be numbers. Hence, we transform these entries as follows\n",
    "# no  -> 0\n",
    "# yes -> 1\n",
    "\n",
    "data = data.replace(to_replace=['no', 'yes'], value=[0, 1])\n",
    "data.head()"
   ]
  },
  {
   "cell_type": "code",
   "execution_count": 8,
   "id": "dbf19c5c",
   "metadata": {},
   "outputs": [],
   "source": [
    "# We will be trying to predict the final grade of each student based on their other attributes\n",
    "# Define the label for the task:\n",
    "predict = \"G3\"\n",
    "\n",
    "# Create arrays of our features and our labels:\n",
    "\n",
    "X = np.array(data.drop(labels = [predict], axis = 1)) # Features\n",
    "y = np.array(data[predict]) # Labels"
   ]
  },
  {
   "cell_type": "code",
   "execution_count": 9,
   "id": "83a5a381",
   "metadata": {},
   "outputs": [],
   "source": [
    "# Next, we split our data into training (90%) and testing (10%) datasets:\n",
    "\n",
    "x_train, x_test, y_train, y_test = sklearn.model_selection.train_test_split(X,\n",
    "                                                                            y,\n",
    "                                                                            test_size = 0.1)"
   ]
  },
  {
   "cell_type": "markdown",
   "id": "e1f06c83",
   "metadata": {},
   "source": [
    "We will be fitting a linear model to the training data. This means that we will try to fit a function of the form $y = m_0 + m_1x_1 + m_2x_2 + m_3x_3 + \\dots$, i.e., a linear function in the chosen parameters. Our model will do so by minimising the squared differences between the predicted values for our label for each student, and their true value."
   ]
  },
  {
   "cell_type": "code",
   "execution_count": 10,
   "id": "ec0d0bec",
   "metadata": {},
   "outputs": [],
   "source": [
    "# We import the linear model from the scikit-learn package\n",
    "\n",
    "linear = linear_model.LinearRegression()"
   ]
  },
  {
   "cell_type": "code",
   "execution_count": 13,
   "id": "f7002306",
   "metadata": {},
   "outputs": [
    {
     "name": "stdout",
     "output_type": "stream",
     "text": [
      "75.74%\n"
     ]
    }
   ],
   "source": [
    "# We fit the model to our training data\n",
    "linear.fit(x_train, y_train)\n",
    "\n",
    "# and we calculate its accuracy on the testing data\n",
    "acc = linear.score(x_test, y_test) # acc stands for accuracy\n",
    "print('{:.2f}%'.format(acc*100))"
   ]
  },
  {
   "cell_type": "code",
   "execution_count": 14,
   "id": "393f25d2",
   "metadata": {},
   "outputs": [
    {
     "name": "stdout",
     "output_type": "stream",
     "text": [
      "m_0 = -1.1521641691241946\n",
      "m_1 = 0.18166021754195927\n",
      "m_2 = 0.946558468286936\n",
      "m_3 = -0.22377869913401854\n",
      "m_4 = -0.18320119000025317\n",
      "m_5 = 0.13861065224444497\n",
      "m_6 = -0.30654725109951614\n"
     ]
    }
   ],
   "source": [
    "# It is informative to view the fitted coefficients of our model\n",
    "print('m_0 = ' +  str(linear.intercept_))\n",
    "for index, coefficient in enumerate(linear.coef_):\n",
    "    print('m_' + str(index + 1) + ' = ' + str(coefficient))"
   ]
  },
  {
   "cell_type": "markdown",
   "id": "e0141e24",
   "metadata": {},
   "source": [
    "For reference, the order of the features is: [G1, G2, studytime, failure, absences, paid, Dalc, romantic]"
   ]
  },
  {
   "cell_type": "markdown",
   "id": "079ef623",
   "metadata": {},
   "source": [
    "We now compare the predictions (rounded to two decimal places) of our model to the actual final grades for the students in the training data."
   ]
  },
  {
   "cell_type": "code",
   "execution_count": 15,
   "id": "6004e013",
   "metadata": {},
   "outputs": [
    {
     "name": "stdout",
     "output_type": "stream",
     "text": [
      "10.63 [10 11  2  0  0  0] 11\n",
      "15.56 [16 15  1  0  1  1] 16\n",
      "4.04 [5 5 2 0 0 0] 6\n",
      "7.12 [9 8 2 1 0 1] 0\n",
      "12.54 [13 13  3  0  0  1] 14\n",
      "10.18 [10 11  4  0  0  0] 11\n",
      "13.07 [13 13  2  0  0  0] 12\n",
      "7.66 [7 9 2 2 1 1] 8\n",
      "10.64 [13 11  3  0  0  1] 11\n",
      "10.81 [11 11  2  0  0  0] 11\n",
      "16.45 [16 16  2  0  0  0] 16\n",
      "8.33 [9 9 2 2 1 0] 9\n",
      "9.78 [11 10  3  0  1  0] 11\n",
      "5.49 [7 6 2 0 1 0] 6\n",
      "17.72 [17 17  2  0  1  0] 17\n",
      "11.91 [10 13  4  0  1  1] 13\n",
      "10.95 [11 11  2  0  1  0] 11\n",
      "9.68 [10 10  2  0  0  0] 10\n",
      "10.59 [ 9 11  2  0  1  0] 12\n",
      "6.11 [7 7 2 1 0 0] 7\n",
      "12.88 [10 13  1  0  1  0] 13\n",
      "8.87 [10  9  2  0  1  0] 9\n",
      "6.66 [7 7 1 0 1 0] 8\n",
      "8.87 [10  9  2  0  1  0] 0\n",
      "9.82 [10 10  2  0  1  0] 11\n",
      "14.42 [14 14  1  0  0  0] 14\n",
      "8.25 [8 9 1 1 1 1] 8\n",
      "9.82 [11 10  2  1  1  0] 10\n",
      "4.04 [5 5 2 0 0 0] 5\n",
      "15.28 [16 15  3  0  0  0] 15\n",
      "14.25 [16 14  4  0  1  0] 15\n",
      "5.62 [7 7 2 2 0 1] 9\n",
      "10.46 [13 11  3  1  0  1] 11\n",
      "7.16 [9 8 4 0 0 0] 8\n",
      "4.00 [7 5 3 1 0 0] 0\n",
      "6.31 [8 7 2 0 1 1] 8\n",
      "14.84 [14 15  2  0  0  1] 15\n",
      "3.59 [6 5 1 3 0 1] 0\n",
      "16.05 [15 16  3  0  0  0] 18\n",
      "11.58 [14 11  1  0  0  0] 13\n"
     ]
    }
   ],
   "source": [
    "predictions = linear.predict(x_test) # Gets a list of all predictions\n",
    "\n",
    "for x in range(len(predictions)):\n",
    "    print('{:.2f}'.format(predictions[x]), x_test[x], y_test[x])"
   ]
  },
  {
   "cell_type": "markdown",
   "id": "4e367804",
   "metadata": {},
   "source": [
    "### We will now create multiple models for solving the task above, compare them, and save those which yield the best results."
   ]
  },
  {
   "cell_type": "code",
   "execution_count": 16,
   "id": "7d637371",
   "metadata": {},
   "outputs": [],
   "source": [
    "import pickle # we need this to save our models"
   ]
  },
  {
   "cell_type": "code",
   "execution_count": 17,
   "id": "f8d00e39",
   "metadata": {},
   "outputs": [],
   "source": [
    "# Save the model we created above to a .pickle file. Note that we are opening the file in \n",
    "# binary mode.\n",
    "\n",
    "with open(\"model_w_\" + str(num_features) + \"_features.pickle\", \"wb\") as f:\n",
    "    pickle.dump(linear, f)"
   ]
  },
  {
   "cell_type": "code",
   "execution_count": 18,
   "id": "aaa64533",
   "metadata": {},
   "outputs": [],
   "source": [
    "# We can now load our model from the pickle file\n",
    "\n",
    "pickle_in = open(\"model_w_\" + str(num_features) + \"_features.pickle\", \"rb\")\n",
    "linear = pickle.load(pickle_in)"
   ]
  },
  {
   "cell_type": "markdown",
   "id": "50e0c2c3",
   "metadata": {},
   "source": [
    "Our models vary in accuracy since the training and testing data is chosen randomly. Hence, it is worth to train multiple models and pick the best one."
   ]
  },
  {
   "cell_type": "code",
   "execution_count": 19,
   "id": "494d01b9",
   "metadata": {},
   "outputs": [
    {
     "name": "stdout",
     "output_type": "stream",
     "text": [
      "Accuracy for model 1: 89.51%\n",
      "Accuracy for model 2: 83.70%\n",
      "Accuracy for model 3: 88.73%\n",
      "Accuracy for model 4: 87.09%\n",
      "Accuracy for model 5: 87.46%\n",
      "Accuracy for model 6: 84.10%\n",
      "Accuracy for model 7: 82.32%\n",
      "Accuracy for model 8: 91.05%\n",
      "Accuracy for model 9: 85.84%\n",
      "Accuracy for model 10: 74.24%\n",
      "Accuracy for model 11: 83.58%\n",
      "Accuracy for model 12: 81.50%\n",
      "Accuracy for model 13: 91.10%\n",
      "Accuracy for model 14: 86.15%\n",
      "Accuracy for model 15: 77.83%\n",
      "Accuracy for model 16: 85.30%\n",
      "Accuracy for model 17: 69.72%\n",
      "Accuracy for model 18: 79.23%\n",
      "Accuracy for model 19: 80.68%\n",
      "Accuracy for model 20: 74.57%\n",
      "Accuracy for model 21: 71.68%\n",
      "Accuracy for model 22: 84.38%\n",
      "Accuracy for model 23: 90.48%\n",
      "Accuracy for model 24: 85.66%\n",
      "Accuracy for model 25: 61.98%\n",
      "Accuracy for model 26: 78.61%\n",
      "Accuracy for model 27: 73.88%\n",
      "Accuracy for model 28: 74.46%\n",
      "Accuracy for model 29: 70.14%\n",
      "Accuracy for model 30: 81.56%\n",
      "Accuracy for model 31: 82.25%\n",
      "Accuracy for model 32: 76.58%\n",
      "Accuracy for model 33: 87.91%\n",
      "Accuracy for model 34: 90.65%\n",
      "Accuracy for model 35: 78.99%\n",
      "Accuracy for model 36: 84.78%\n",
      "Accuracy for model 37: 64.36%\n",
      "Accuracy for model 38: 84.45%\n",
      "Accuracy for model 39: 73.04%\n",
      "Accuracy for model 40: 89.33%\n",
      "Accuracy for model 41: 75.19%\n",
      "Accuracy for model 42: 84.47%\n",
      "Accuracy for model 43: 85.15%\n",
      "Accuracy for model 44: 70.73%\n",
      "Accuracy for model 45: 77.18%\n",
      "Accuracy for model 46: 82.59%\n",
      "Accuracy for model 47: 80.69%\n",
      "Accuracy for model 48: 87.25%\n",
      "Accuracy for model 49: 91.78%\n",
      "Accuracy for model 50: 89.85%\n",
      "Accuracy for model 51: 91.27%\n",
      "Accuracy for model 52: 79.86%\n",
      "Accuracy for model 53: 81.88%\n",
      "Accuracy for model 54: 85.30%\n",
      "Accuracy for model 55: 86.23%\n",
      "Accuracy for model 56: 82.80%\n",
      "Accuracy for model 57: 81.44%\n",
      "Accuracy for model 58: 78.48%\n",
      "Accuracy for model 59: 87.45%\n",
      "Accuracy for model 60: 70.65%\n",
      "\n",
      "The model saved is number 48 with an accuracy of 91.78%\n"
     ]
    }
   ],
   "source": [
    "# We train multiple models, each time splitting the whole dataset into training and testing\n",
    "# data differently (in general).\n",
    "\n",
    "best_accuracy = 0\n",
    "best_model = None\n",
    "for model_number in range(60):\n",
    "    x_train, x_test, y_train, y_test = sklearn.model_selection.train_test_split(X,\n",
    "                                                                                y,\n",
    "                                                                                test_size=0.1)\n",
    "\n",
    "    linear = linear_model.LinearRegression()\n",
    "\n",
    "    linear.fit(x_train, y_train)\n",
    "    acc = linear.score(x_test, y_test)\n",
    "    print(\"Accuracy for model \" + str(model_number + 1) + \": \" +\n",
    "          str('{:.2f}%'.format(acc*100)))\n",
    "    \n",
    "    # If the current model has a better score than one we've already trained then save it\n",
    "    if acc > best_accuracy:\n",
    "        best_accuracy = acc\n",
    "        best_model = model_number\n",
    "        with open(\"model_w_\" + str(num_features) + \"_features.pickle\", \"wb\") as f:\n",
    "            pickle.dump(linear, f)\n",
    "            \n",
    "print('\\nThe model saved is number ' + str(best_model) +\n",
    "      ' with an accuracy of ' + str('{:.2f}%'.format(best_accuracy*100)))"
   ]
  }
 ],
 "metadata": {
  "kernelspec": {
   "display_name": "Python 3 (ipykernel)",
   "language": "python",
   "name": "python3"
  },
  "language_info": {
   "codemirror_mode": {
    "name": "ipython",
    "version": 3
   },
   "file_extension": ".py",
   "mimetype": "text/x-python",
   "name": "python",
   "nbconvert_exporter": "python",
   "pygments_lexer": "ipython3",
   "version": "3.8.12"
  }
 },
 "nbformat": 4,
 "nbformat_minor": 5
}
